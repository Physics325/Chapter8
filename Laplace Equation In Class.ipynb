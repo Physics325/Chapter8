{
 "cells": [
  {
   "cell_type": "markdown",
   "metadata": {},
   "source": [
    "# Laplace Equation\n",
    "\n",
    "As an introduction to PDEs, we start with a simple equation that only has spatial derivatives. Laplace equation describes the electric potential in any charge-free region:\n",
    "$$\\nabla^2 V = 0$$\n",
    "or by expanding the $\\nabla$ operator in terms of $x$, $y$ and $z$ derivatives, we have:\n",
    "$$\\frac{\\partial^2 V}{\\partial x^2} + \\frac{\\partial^2 V}{\\partial y^2} + \\frac{\\partial^2 V}{\\partial z^2} = 0$$\n",
    "\n",
    "First, use our trick for calculating the second derivative (see Chapter 2) to show that the solution to Laplace equation is given by $$V_{ij} = \n",
    "\\frac{1}{4}(V_{i-1,j} + V_{i+1,j} + V_{i,j-1} + V_{i,j+1})$$\n",
    "\n",
    "To begin implementing a solution, we create a grid of points, but unlike prior systems, this grid can be three-dimensional. We'll start out in 2D to develop a solver:"
   ]
  },
  {
   "cell_type": "code",
   "execution_count": 1,
   "metadata": {
    "collapsed": true
   },
   "outputs": [],
   "source": [
    "import numpy as np\n",
    "import matplotlib.pyplot as plt\n",
    "%matplotlib inline"
   ]
  },
  {
   "cell_type": "code",
   "execution_count": 2,
   "metadata": {
    "collapsed": true
   },
   "outputs": [],
   "source": [
    "N = 100  # The number of points in any dimension, we'll make this bigger later\n",
    "x = np.linspace(-5,5,N)  # a linear space from -5 to 5\n",
    "y = np.linspace(-5,5,N)  # same as x, though doesn't have to be"
   ]
  },
  {
   "cell_type": "markdown",
   "metadata": {},
   "source": [
    "Create an NxN array initialized with zeros. Call it `V` for potential"
   ]
  },
  {
   "cell_type": "code",
   "execution_count": null,
   "metadata": {
    "collapsed": true
   },
   "outputs": [],
   "source": []
  },
  {
   "cell_type": "markdown",
   "metadata": {},
   "source": [
    "Use `plt.imshow()` to view the potential as an image (hint: it will be boring)."
   ]
  },
  {
   "cell_type": "code",
   "execution_count": null,
   "metadata": {
    "collapsed": true
   },
   "outputs": [],
   "source": []
  },
  {
   "cell_type": "markdown",
   "metadata": {},
   "source": [
    "Set some points to fixed values, these will represent physical conductors held at a specific potential. If you want continuous lines of constant potential (which we recommend) then use array slices to set these values in `V`. Use `plt.imshow` again to verify that you are setting these fixed points correctly."
   ]
  },
  {
   "cell_type": "code",
   "execution_count": null,
   "metadata": {
    "collapsed": true
   },
   "outputs": [],
   "source": []
  },
  {
   "cell_type": "markdown",
   "metadata": {},
   "source": [
    "You want to be able to keep the fixed points at their set value so to do this, we'll define an NxN array called `fixed` that is zero everywhere except at these fixed points where it will be `1`. Use the same array slices that you used in `V` to set `fixed`. Hint: you may want to learn about `np.zeros_like`. Use `plt.imshow` to check that `V` and `fixed` are what you expect."
   ]
  },
  {
   "cell_type": "code",
   "execution_count": null,
   "metadata": {
    "collapsed": true
   },
   "outputs": [],
   "source": []
  },
  {
   "cell_type": "markdown",
   "metadata": {},
   "source": [
    "Implement a cell that runs through your `V` array and calculates the new value based on the formula you derived. It is also useful to keep track of how different the new value is from the old value (it might make sense to use another array for that!). Verify that it works and then wrap it in at least one for loop. You can use nested loops to do things like plot the potential every so often as the relaxation method is applied."
   ]
  },
  {
   "cell_type": "code",
   "execution_count": null,
   "metadata": {
    "collapsed": true
   },
   "outputs": [],
   "source": []
  }
 ],
 "metadata": {
  "kernelspec": {
   "display_name": "Python 3",
   "language": "python",
   "name": "python3"
  },
  "language_info": {
   "codemirror_mode": {
    "name": "ipython",
    "version": 3
   },
   "file_extension": ".py",
   "mimetype": "text/x-python",
   "name": "python",
   "nbconvert_exporter": "python",
   "pygments_lexer": "ipython3",
   "version": "3.5.1"
  }
 },
 "nbformat": 4,
 "nbformat_minor": 0
}
